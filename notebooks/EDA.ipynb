{
  "nbformat": 4,
  "nbformat_minor": 0,
  "metadata": {
    "colab": {
      "provenance": [],
      "collapsed_sections": []
    },
    "kernelspec": {
      "name": "python3",
      "display_name": "Python 3"
    },
    "language_info": {
      "name": "python"
    },
    "gpuClass": "standard"
  },
  "cells": [
    {
      "cell_type": "code",
      "source": [
        "!pip install catboost"
      ],
      "metadata": {
        "colab": {
          "base_uri": "https://localhost:8080/"
        },
        "id": "tEaj8eKhz4RJ",
        "outputId": "51bd0bc5-d4d9-4ee4-faa6-b485129d0b79"
      },
      "execution_count": 1,
      "outputs": [
        {
          "output_type": "stream",
          "name": "stdout",
          "text": [
            "Looking in indexes: https://pypi.org/simple, https://us-python.pkg.dev/colab-wheels/public/simple/\n",
            "Requirement already satisfied: catboost in /usr/local/lib/python3.7/dist-packages (1.1)\n",
            "Requirement already satisfied: scipy in /usr/local/lib/python3.7/dist-packages (from catboost) (1.7.3)\n",
            "Requirement already satisfied: graphviz in /usr/local/lib/python3.7/dist-packages (from catboost) (0.10.1)\n",
            "Requirement already satisfied: matplotlib in /usr/local/lib/python3.7/dist-packages (from catboost) (3.2.2)\n",
            "Requirement already satisfied: plotly in /usr/local/lib/python3.7/dist-packages (from catboost) (5.5.0)\n",
            "Requirement already satisfied: pandas>=0.24.0 in /usr/local/lib/python3.7/dist-packages (from catboost) (1.3.5)\n",
            "Requirement already satisfied: numpy>=1.16.0 in /usr/local/lib/python3.7/dist-packages (from catboost) (1.21.6)\n",
            "Requirement already satisfied: six in /usr/local/lib/python3.7/dist-packages (from catboost) (1.15.0)\n",
            "Requirement already satisfied: python-dateutil>=2.7.3 in /usr/local/lib/python3.7/dist-packages (from pandas>=0.24.0->catboost) (2.8.2)\n",
            "Requirement already satisfied: pytz>=2017.3 in /usr/local/lib/python3.7/dist-packages (from pandas>=0.24.0->catboost) (2022.5)\n",
            "Requirement already satisfied: kiwisolver>=1.0.1 in /usr/local/lib/python3.7/dist-packages (from matplotlib->catboost) (1.4.4)\n",
            "Requirement already satisfied: pyparsing!=2.0.4,!=2.1.2,!=2.1.6,>=2.0.1 in /usr/local/lib/python3.7/dist-packages (from matplotlib->catboost) (3.0.9)\n",
            "Requirement already satisfied: cycler>=0.10 in /usr/local/lib/python3.7/dist-packages (from matplotlib->catboost) (0.11.0)\n",
            "Requirement already satisfied: typing-extensions in /usr/local/lib/python3.7/dist-packages (from kiwisolver>=1.0.1->matplotlib->catboost) (4.1.1)\n",
            "Requirement already satisfied: tenacity>=6.2.0 in /usr/local/lib/python3.7/dist-packages (from plotly->catboost) (8.1.0)\n"
          ]
        }
      ]
    },
    {
      "cell_type": "code",
      "execution_count": 2,
      "metadata": {
        "colab": {
          "base_uri": "https://localhost:8080/"
        },
        "id": "1hyKFdF0rl5U",
        "outputId": "f37d4a96-bd2f-490a-8c88-ca78439eab1d"
      },
      "outputs": [
        {
          "output_type": "stream",
          "name": "stdout",
          "text": [
            "Drive already mounted at /content/drive; to attempt to forcibly remount, call drive.mount(\"/content/drive\", force_remount=True).\n"
          ]
        }
      ],
      "source": [
        "import numpy as np\n",
        "import pandas as pd\n",
        "import matplotlib.pyplot as plt\n",
        "import seaborn as sns\n",
        "\n",
        "from sklearn.model_selection import train_test_split\n",
        "from sklearn.pipeline import Pipeline\n",
        "from sklearn.preprocessing import StandardScaler, RobustScaler, PolynomialFeatures\n",
        "from sklearn.metrics import accuracy_score\n",
        "\n",
        "from catboost import CatBoostClassifier\n",
        "\n",
        "from google.colab import drive\n",
        "drive.mount('/content/drive')"
      ]
    },
    {
      "cell_type": "code",
      "source": [
        "df = pd.read_csv('/content/drive/MyDrive/MLOps/heart_cleveland_upload.csv')\n",
        "df.head(5)"
      ],
      "metadata": {
        "colab": {
          "base_uri": "https://localhost:8080/",
          "height": 206
        },
        "id": "ZVecnvg2r9bm",
        "outputId": "8de8c3d5-4443-4abc-c1f8-80d146eb1791"
      },
      "execution_count": 3,
      "outputs": [
        {
          "output_type": "execute_result",
          "data": {
            "text/plain": [
              "   age  sex  cp  trestbps  chol  fbs  restecg  thalach  exang  oldpeak  slope  \\\n",
              "0   69    1   0       160   234    1        2      131      0      0.1      1   \n",
              "1   69    0   0       140   239    0        0      151      0      1.8      0   \n",
              "2   66    0   0       150   226    0        0      114      0      2.6      2   \n",
              "3   65    1   0       138   282    1        2      174      0      1.4      1   \n",
              "4   64    1   0       110   211    0        2      144      1      1.8      1   \n",
              "\n",
              "   ca  thal  condition  \n",
              "0   1     0          0  \n",
              "1   2     0          0  \n",
              "2   0     0          0  \n",
              "3   1     0          1  \n",
              "4   0     0          0  "
            ],
            "text/html": [
              "\n",
              "  <div id=\"df-fad7627b-ef27-4ecb-9b50-d1e5ab17f210\">\n",
              "    <div class=\"colab-df-container\">\n",
              "      <div>\n",
              "<style scoped>\n",
              "    .dataframe tbody tr th:only-of-type {\n",
              "        vertical-align: middle;\n",
              "    }\n",
              "\n",
              "    .dataframe tbody tr th {\n",
              "        vertical-align: top;\n",
              "    }\n",
              "\n",
              "    .dataframe thead th {\n",
              "        text-align: right;\n",
              "    }\n",
              "</style>\n",
              "<table border=\"1\" class=\"dataframe\">\n",
              "  <thead>\n",
              "    <tr style=\"text-align: right;\">\n",
              "      <th></th>\n",
              "      <th>age</th>\n",
              "      <th>sex</th>\n",
              "      <th>cp</th>\n",
              "      <th>trestbps</th>\n",
              "      <th>chol</th>\n",
              "      <th>fbs</th>\n",
              "      <th>restecg</th>\n",
              "      <th>thalach</th>\n",
              "      <th>exang</th>\n",
              "      <th>oldpeak</th>\n",
              "      <th>slope</th>\n",
              "      <th>ca</th>\n",
              "      <th>thal</th>\n",
              "      <th>condition</th>\n",
              "    </tr>\n",
              "  </thead>\n",
              "  <tbody>\n",
              "    <tr>\n",
              "      <th>0</th>\n",
              "      <td>69</td>\n",
              "      <td>1</td>\n",
              "      <td>0</td>\n",
              "      <td>160</td>\n",
              "      <td>234</td>\n",
              "      <td>1</td>\n",
              "      <td>2</td>\n",
              "      <td>131</td>\n",
              "      <td>0</td>\n",
              "      <td>0.1</td>\n",
              "      <td>1</td>\n",
              "      <td>1</td>\n",
              "      <td>0</td>\n",
              "      <td>0</td>\n",
              "    </tr>\n",
              "    <tr>\n",
              "      <th>1</th>\n",
              "      <td>69</td>\n",
              "      <td>0</td>\n",
              "      <td>0</td>\n",
              "      <td>140</td>\n",
              "      <td>239</td>\n",
              "      <td>0</td>\n",
              "      <td>0</td>\n",
              "      <td>151</td>\n",
              "      <td>0</td>\n",
              "      <td>1.8</td>\n",
              "      <td>0</td>\n",
              "      <td>2</td>\n",
              "      <td>0</td>\n",
              "      <td>0</td>\n",
              "    </tr>\n",
              "    <tr>\n",
              "      <th>2</th>\n",
              "      <td>66</td>\n",
              "      <td>0</td>\n",
              "      <td>0</td>\n",
              "      <td>150</td>\n",
              "      <td>226</td>\n",
              "      <td>0</td>\n",
              "      <td>0</td>\n",
              "      <td>114</td>\n",
              "      <td>0</td>\n",
              "      <td>2.6</td>\n",
              "      <td>2</td>\n",
              "      <td>0</td>\n",
              "      <td>0</td>\n",
              "      <td>0</td>\n",
              "    </tr>\n",
              "    <tr>\n",
              "      <th>3</th>\n",
              "      <td>65</td>\n",
              "      <td>1</td>\n",
              "      <td>0</td>\n",
              "      <td>138</td>\n",
              "      <td>282</td>\n",
              "      <td>1</td>\n",
              "      <td>2</td>\n",
              "      <td>174</td>\n",
              "      <td>0</td>\n",
              "      <td>1.4</td>\n",
              "      <td>1</td>\n",
              "      <td>1</td>\n",
              "      <td>0</td>\n",
              "      <td>1</td>\n",
              "    </tr>\n",
              "    <tr>\n",
              "      <th>4</th>\n",
              "      <td>64</td>\n",
              "      <td>1</td>\n",
              "      <td>0</td>\n",
              "      <td>110</td>\n",
              "      <td>211</td>\n",
              "      <td>0</td>\n",
              "      <td>2</td>\n",
              "      <td>144</td>\n",
              "      <td>1</td>\n",
              "      <td>1.8</td>\n",
              "      <td>1</td>\n",
              "      <td>0</td>\n",
              "      <td>0</td>\n",
              "      <td>0</td>\n",
              "    </tr>\n",
              "  </tbody>\n",
              "</table>\n",
              "</div>\n",
              "      <button class=\"colab-df-convert\" onclick=\"convertToInteractive('df-fad7627b-ef27-4ecb-9b50-d1e5ab17f210')\"\n",
              "              title=\"Convert this dataframe to an interactive table.\"\n",
              "              style=\"display:none;\">\n",
              "        \n",
              "  <svg xmlns=\"http://www.w3.org/2000/svg\" height=\"24px\"viewBox=\"0 0 24 24\"\n",
              "       width=\"24px\">\n",
              "    <path d=\"M0 0h24v24H0V0z\" fill=\"none\"/>\n",
              "    <path d=\"M18.56 5.44l.94 2.06.94-2.06 2.06-.94-2.06-.94-.94-2.06-.94 2.06-2.06.94zm-11 1L8.5 8.5l.94-2.06 2.06-.94-2.06-.94L8.5 2.5l-.94 2.06-2.06.94zm10 10l.94 2.06.94-2.06 2.06-.94-2.06-.94-.94-2.06-.94 2.06-2.06.94z\"/><path d=\"M17.41 7.96l-1.37-1.37c-.4-.4-.92-.59-1.43-.59-.52 0-1.04.2-1.43.59L10.3 9.45l-7.72 7.72c-.78.78-.78 2.05 0 2.83L4 21.41c.39.39.9.59 1.41.59.51 0 1.02-.2 1.41-.59l7.78-7.78 2.81-2.81c.8-.78.8-2.07 0-2.86zM5.41 20L4 18.59l7.72-7.72 1.47 1.35L5.41 20z\"/>\n",
              "  </svg>\n",
              "      </button>\n",
              "      \n",
              "  <style>\n",
              "    .colab-df-container {\n",
              "      display:flex;\n",
              "      flex-wrap:wrap;\n",
              "      gap: 12px;\n",
              "    }\n",
              "\n",
              "    .colab-df-convert {\n",
              "      background-color: #E8F0FE;\n",
              "      border: none;\n",
              "      border-radius: 50%;\n",
              "      cursor: pointer;\n",
              "      display: none;\n",
              "      fill: #1967D2;\n",
              "      height: 32px;\n",
              "      padding: 0 0 0 0;\n",
              "      width: 32px;\n",
              "    }\n",
              "\n",
              "    .colab-df-convert:hover {\n",
              "      background-color: #E2EBFA;\n",
              "      box-shadow: 0px 1px 2px rgba(60, 64, 67, 0.3), 0px 1px 3px 1px rgba(60, 64, 67, 0.15);\n",
              "      fill: #174EA6;\n",
              "    }\n",
              "\n",
              "    [theme=dark] .colab-df-convert {\n",
              "      background-color: #3B4455;\n",
              "      fill: #D2E3FC;\n",
              "    }\n",
              "\n",
              "    [theme=dark] .colab-df-convert:hover {\n",
              "      background-color: #434B5C;\n",
              "      box-shadow: 0px 1px 3px 1px rgba(0, 0, 0, 0.15);\n",
              "      filter: drop-shadow(0px 1px 2px rgba(0, 0, 0, 0.3));\n",
              "      fill: #FFFFFF;\n",
              "    }\n",
              "  </style>\n",
              "\n",
              "      <script>\n",
              "        const buttonEl =\n",
              "          document.querySelector('#df-fad7627b-ef27-4ecb-9b50-d1e5ab17f210 button.colab-df-convert');\n",
              "        buttonEl.style.display =\n",
              "          google.colab.kernel.accessAllowed ? 'block' : 'none';\n",
              "\n",
              "        async function convertToInteractive(key) {\n",
              "          const element = document.querySelector('#df-fad7627b-ef27-4ecb-9b50-d1e5ab17f210');\n",
              "          const dataTable =\n",
              "            await google.colab.kernel.invokeFunction('convertToInteractive',\n",
              "                                                     [key], {});\n",
              "          if (!dataTable) return;\n",
              "\n",
              "          const docLinkHtml = 'Like what you see? Visit the ' +\n",
              "            '<a target=\"_blank\" href=https://colab.research.google.com/notebooks/data_table.ipynb>data table notebook</a>'\n",
              "            + ' to learn more about interactive tables.';\n",
              "          element.innerHTML = '';\n",
              "          dataTable['output_type'] = 'display_data';\n",
              "          await google.colab.output.renderOutput(dataTable, element);\n",
              "          const docLink = document.createElement('div');\n",
              "          docLink.innerHTML = docLinkHtml;\n",
              "          element.appendChild(docLink);\n",
              "        }\n",
              "      </script>\n",
              "    </div>\n",
              "  </div>\n",
              "  "
            ]
          },
          "metadata": {},
          "execution_count": 3
        }
      ]
    },
    {
      "cell_type": "code",
      "source": [
        "Y = df['condition']\n",
        "df = df.drop('condition', axis=1)"
      ],
      "metadata": {
        "id": "f3xJTw9JrEjr"
      },
      "execution_count": 4,
      "outputs": []
    },
    {
      "cell_type": "markdown",
      "source": [
        "Отделим численные признаки от категориальных и построим распределения для этих признаков"
      ],
      "metadata": {
        "id": "zhQ3bWjhucAd"
      }
    },
    {
      "cell_type": "code",
      "source": [
        "numerical_features = ['age', 'trestbps', 'chol', 'thalach', 'oldpeak']\n",
        "categorical_features = list(set(df.columns) - set(numerical_features))"
      ],
      "metadata": {
        "id": "ZPVCqVwqsW7s"
      },
      "execution_count": 5,
      "outputs": []
    },
    {
      "cell_type": "code",
      "source": [
        "fig, ax = plt.subplots(2, 3, figsize=(13, 8))\n",
        "\n",
        "ax_array = [axis for row in ax for axis in row] \n",
        "\n",
        "for axis, feature in zip(ax_array, numerical_features):\n",
        "    sns.histplot(df[feature], ax=axis);"
      ],
      "metadata": {
        "colab": {
          "base_uri": "https://localhost:8080/",
          "height": 497
        },
        "id": "er0rgW-utPmi",
        "outputId": "b75aa3f5-0be7-41dd-fb9c-370487ff7b69"
      },
      "execution_count": 6,
      "outputs": [
        {
          "output_type": "display_data",
          "data": {
            "text/plain": [
              "<Figure size 936x576 with 6 Axes>"
            ],
            "image/png": "[encoded data removed]"
          },
          "metadata": {
            "needs_background": "light"
          }
        }
      ]
    },
    {
      "cell_type": "markdown",
      "source": [
        "Удалим небольшие выбросы"
      ],
      "metadata": {
        "id": "EOdr1tGGyg-S"
      }
    },
    {
      "cell_type": "code",
      "source": [
        "fig, ax = plt.subplots(3, 3, figsize=(13, 10))\n",
        "\n",
        "ax_array = [axis for row in ax for axis in row] \n",
        "\n",
        "for axis, feature in zip(ax_array, categorical_features):\n",
        "    df[feature].hist(ax=axis)"
      ],
      "metadata": {
        "colab": {
          "base_uri": "https://localhost:8080/",
          "height": 592
        },
        "id": "Vx9ECD3atzwj",
        "outputId": "f5bec15e-25da-4ac5-9ada-de01f022c29b"
      },
      "execution_count": 7,
      "outputs": [
        {
          "output_type": "display_data",
          "data": {
            "text/plain": [
              "<Figure size 936x720 with 9 Axes>"
            ],
            "image/png": "[encoded data removed]"
          },
          "metadata": {
            "needs_background": "light"
          }
        }
      ]
    },
    {
      "cell_type": "code",
      "source": [
        "for feature in categorical_features:\n",
        "    df = pd.concat([df, pd.get_dummies(df[feature], prefix=feature)], \n",
        "                   axis=1, ignore_index=False)\n",
        "\n",
        "df = df.drop(columns=categorical_features)"
      ],
      "metadata": {
        "id": "XcSsepRitNQO"
      },
      "execution_count": 8,
      "outputs": []
    },
    {
      "cell_type": "markdown",
      "source": [
        "Проверим корреляциию признаков с метками"
      ],
      "metadata": {
        "id": "BAqz4-BmxZ3H"
      }
    },
    {
      "cell_type": "code",
      "source": [
        "correlations = df.corrwith(Y).sort_values(ascending=False)\n",
        "plot = sns.barplot(y=correlations.index, x=correlations)\n",
        "plot.figure.set_size_inches(10, 10)"
      ],
      "metadata": {
        "colab": {
          "base_uri": "https://localhost:8080/",
          "height": 592
        },
        "id": "67NxIHyevlJr",
        "outputId": "548af161-acc1-47d0-dda5-99836b436684"
      },
      "execution_count": 19,
      "outputs": [
        {
          "output_type": "display_data",
          "data": {
            "text/plain": [
              "<Figure size 720x720 with 1 Axes>"
            ],
            "image/png": "[encoded data removed]"
          },
          "metadata": {
            "needs_background": "light"
          }
        }
      ]
    },
    {
      "cell_type": "markdown",
      "source": [
        "Удалим признаки с небольшой корреляцией"
      ],
      "metadata": {
        "id": "7vRHVGv2xcu7"
      }
    },
    {
      "cell_type": "code",
      "source": [
        "df = df.drop(['fbs_0', 'fbs_1'], axis=1)"
      ],
      "metadata": {
        "id": "WzVyrzhdxAT8"
      },
      "execution_count": 10,
      "outputs": []
    },
    {
      "cell_type": "markdown",
      "source": [
        "\n",
        "\n",
        "Отмасштабируем данные и добавим признаки с помощью полиномов 2-го порядка\n"
      ],
      "metadata": {
        "id": "pEgNuM2_zh75"
      }
    },
    {
      "cell_type": "code",
      "source": [
        "X = df.to_numpy()\n",
        "y = Y.to_numpy()\n",
        "\n",
        "X_train, X_test, y_train, y_test = train_test_split(X, y)"
      ],
      "metadata": {
        "id": "_hyfrjEpy_mW"
      },
      "execution_count": 44,
      "outputs": []
    },
    {
      "cell_type": "code",
      "source": [
        "scaler = Pipeline([\n",
        "    ('scaler_1', RobustScaler()),\n",
        "    ('scaler_2', PolynomialFeatures(degree=2))\n",
        "])"
      ],
      "metadata": {
        "id": "Ycu3jd7-y6nl"
      },
      "execution_count": 45,
      "outputs": []
    },
    {
      "cell_type": "code",
      "source": [
        "X_train_scal = scaler.fit_transform(X_train)\n",
        "X_test_scal = scaler.fit_transform(X_test)"
      ],
      "metadata": {
        "id": "U0PpaHpazQ7q"
      },
      "execution_count": 46,
      "outputs": []
    },
    {
      "cell_type": "markdown",
      "source": [
        "Обучим"
      ],
      "metadata": {
        "id": "ThIoTRoO0Cz3"
      }
    },
    {
      "cell_type": "code",
      "source": [
        "model = CatBoostClassifier(n_estimators=100, random_state=24, reg_lambda=25)\n",
        "model.fit(X_train_scal, y_train)"
      ],
      "metadata": {
        "id": "XElx1pvKzkpO",
        "colab": {
          "base_uri": "https://localhost:8080/"
        },
        "outputId": "417a0c5f-eb23-4c64-91c2-b6fba7826fc8"
      },
      "execution_count": 47,
      "outputs": [
        {
          "output_type": "stream",
          "name": "stdout",
          "text": [
            "0:\tlearn: 0.6819232\ttotal: 14.6ms\tremaining: 1.45s\n",
            "1:\tlearn: 0.6737972\ttotal: 28.3ms\tremaining: 1.39s\n",
            "2:\tlearn: 0.6658571\ttotal: 41.7ms\tremaining: 1.35s\n",
            "3:\tlearn: 0.6554330\ttotal: 55.1ms\tremaining: 1.32s\n",
            "4:\tlearn: 0.6462121\ttotal: 69.2ms\tremaining: 1.31s\n",
            "5:\tlearn: 0.6365593\ttotal: 82.9ms\tremaining: 1.3s\n",
            "6:\tlearn: 0.6272921\ttotal: 97.2ms\tremaining: 1.29s\n",
            "7:\tlearn: 0.6195807\ttotal: 111ms\tremaining: 1.28s\n",
            "8:\tlearn: 0.6123447\ttotal: 126ms\tremaining: 1.27s\n",
            "9:\tlearn: 0.6042522\ttotal: 139ms\tremaining: 1.25s\n",
            "10:\tlearn: 0.5977724\ttotal: 154ms\tremaining: 1.25s\n",
            "11:\tlearn: 0.5894926\ttotal: 168ms\tremaining: 1.23s\n",
            "12:\tlearn: 0.5824102\ttotal: 182ms\tremaining: 1.22s\n",
            "13:\tlearn: 0.5764629\ttotal: 196ms\tremaining: 1.2s\n",
            "14:\tlearn: 0.5719418\ttotal: 210ms\tremaining: 1.19s\n",
            "15:\tlearn: 0.5642570\ttotal: 228ms\tremaining: 1.2s\n",
            "16:\tlearn: 0.5570540\ttotal: 242ms\tremaining: 1.18s\n",
            "17:\tlearn: 0.5522654\ttotal: 256ms\tremaining: 1.17s\n",
            "18:\tlearn: 0.5451750\ttotal: 280ms\tremaining: 1.19s\n",
            "19:\tlearn: 0.5399357\ttotal: 302ms\tremaining: 1.21s\n",
            "20:\tlearn: 0.5360750\ttotal: 316ms\tremaining: 1.19s\n",
            "21:\tlearn: 0.5316443\ttotal: 332ms\tremaining: 1.18s\n",
            "22:\tlearn: 0.5269985\ttotal: 346ms\tremaining: 1.16s\n",
            "23:\tlearn: 0.5225727\ttotal: 360ms\tremaining: 1.14s\n",
            "24:\tlearn: 0.5167459\ttotal: 373ms\tremaining: 1.12s\n",
            "25:\tlearn: 0.5124317\ttotal: 387ms\tremaining: 1.1s\n",
            "26:\tlearn: 0.5066016\ttotal: 403ms\tremaining: 1.09s\n",
            "27:\tlearn: 0.5024122\ttotal: 421ms\tremaining: 1.08s\n",
            "28:\tlearn: 0.4983030\ttotal: 438ms\tremaining: 1.07s\n",
            "29:\tlearn: 0.4945187\ttotal: 453ms\tremaining: 1.06s\n",
            "30:\tlearn: 0.4912102\ttotal: 466ms\tremaining: 1.04s\n",
            "31:\tlearn: 0.4861253\ttotal: 480ms\tremaining: 1.02s\n",
            "32:\tlearn: 0.4825440\ttotal: 494ms\tremaining: 1s\n",
            "33:\tlearn: 0.4793273\ttotal: 508ms\tremaining: 986ms\n",
            "34:\tlearn: 0.4757325\ttotal: 521ms\tremaining: 967ms\n",
            "35:\tlearn: 0.4720310\ttotal: 535ms\tremaining: 950ms\n",
            "36:\tlearn: 0.4690926\ttotal: 549ms\tremaining: 934ms\n",
            "37:\tlearn: 0.4654248\ttotal: 562ms\tremaining: 917ms\n",
            "38:\tlearn: 0.4625117\ttotal: 576ms\tremaining: 901ms\n",
            "39:\tlearn: 0.4584395\ttotal: 590ms\tremaining: 885ms\n",
            "40:\tlearn: 0.4554983\ttotal: 605ms\tremaining: 870ms\n",
            "41:\tlearn: 0.4532684\ttotal: 620ms\tremaining: 856ms\n",
            "42:\tlearn: 0.4507113\ttotal: 634ms\tremaining: 841ms\n",
            "43:\tlearn: 0.4477715\ttotal: 652ms\tremaining: 830ms\n",
            "44:\tlearn: 0.4458236\ttotal: 667ms\tremaining: 815ms\n",
            "45:\tlearn: 0.4430083\ttotal: 681ms\tremaining: 799ms\n",
            "46:\tlearn: 0.4399269\ttotal: 695ms\tremaining: 784ms\n",
            "47:\tlearn: 0.4361703\ttotal: 710ms\tremaining: 770ms\n",
            "48:\tlearn: 0.4333437\ttotal: 725ms\tremaining: 754ms\n",
            "49:\tlearn: 0.4307001\ttotal: 746ms\tremaining: 746ms\n",
            "50:\tlearn: 0.4275647\ttotal: 761ms\tremaining: 731ms\n",
            "51:\tlearn: 0.4247982\ttotal: 775ms\tremaining: 716ms\n",
            "52:\tlearn: 0.4229572\ttotal: 790ms\tremaining: 701ms\n",
            "53:\tlearn: 0.4213981\ttotal: 805ms\tremaining: 685ms\n",
            "54:\tlearn: 0.4195442\ttotal: 818ms\tremaining: 670ms\n",
            "55:\tlearn: 0.4171687\ttotal: 832ms\tremaining: 654ms\n",
            "56:\tlearn: 0.4144705\ttotal: 845ms\tremaining: 638ms\n",
            "57:\tlearn: 0.4122895\ttotal: 863ms\tremaining: 625ms\n",
            "58:\tlearn: 0.4099726\ttotal: 881ms\tremaining: 612ms\n",
            "59:\tlearn: 0.4081363\ttotal: 895ms\tremaining: 597ms\n",
            "60:\tlearn: 0.4063161\ttotal: 909ms\tremaining: 581ms\n",
            "61:\tlearn: 0.4041268\ttotal: 923ms\tremaining: 566ms\n",
            "62:\tlearn: 0.4024081\ttotal: 938ms\tremaining: 551ms\n",
            "63:\tlearn: 0.4005844\ttotal: 965ms\tremaining: 543ms\n",
            "64:\tlearn: 0.3989206\ttotal: 979ms\tremaining: 527ms\n",
            "65:\tlearn: 0.3968672\ttotal: 993ms\tremaining: 511ms\n",
            "66:\tlearn: 0.3955258\ttotal: 1.01s\tremaining: 496ms\n",
            "67:\tlearn: 0.3927638\ttotal: 1.02s\tremaining: 480ms\n",
            "68:\tlearn: 0.3908409\ttotal: 1.03s\tremaining: 465ms\n",
            "69:\tlearn: 0.3893319\ttotal: 1.05s\tremaining: 449ms\n",
            "70:\tlearn: 0.3864295\ttotal: 1.07s\tremaining: 435ms\n",
            "71:\tlearn: 0.3839643\ttotal: 1.08s\tremaining: 420ms\n",
            "72:\tlearn: 0.3827947\ttotal: 1.09s\tremaining: 405ms\n",
            "73:\tlearn: 0.3805128\ttotal: 1.11s\tremaining: 389ms\n",
            "74:\tlearn: 0.3784530\ttotal: 1.12s\tremaining: 374ms\n",
            "75:\tlearn: 0.3770587\ttotal: 1.14s\tremaining: 359ms\n",
            "76:\tlearn: 0.3750230\ttotal: 1.15s\tremaining: 343ms\n",
            "77:\tlearn: 0.3729266\ttotal: 1.16s\tremaining: 328ms\n",
            "78:\tlearn: 0.3713093\ttotal: 1.18s\tremaining: 313ms\n",
            "79:\tlearn: 0.3696826\ttotal: 1.19s\tremaining: 298ms\n",
            "80:\tlearn: 0.3689754\ttotal: 1.21s\tremaining: 283ms\n",
            "81:\tlearn: 0.3671171\ttotal: 1.22s\tremaining: 268ms\n",
            "82:\tlearn: 0.3655362\ttotal: 1.23s\tremaining: 253ms\n",
            "83:\tlearn: 0.3643851\ttotal: 1.25s\tremaining: 238ms\n",
            "84:\tlearn: 0.3629423\ttotal: 1.26s\tremaining: 223ms\n",
            "85:\tlearn: 0.3613190\ttotal: 1.28s\tremaining: 209ms\n",
            "86:\tlearn: 0.3595357\ttotal: 1.29s\tremaining: 193ms\n",
            "87:\tlearn: 0.3583306\ttotal: 1.31s\tremaining: 178ms\n",
            "88:\tlearn: 0.3569689\ttotal: 1.32s\tremaining: 163ms\n",
            "89:\tlearn: 0.3558991\ttotal: 1.33s\tremaining: 148ms\n",
            "90:\tlearn: 0.3547029\ttotal: 1.35s\tremaining: 133ms\n",
            "91:\tlearn: 0.3532542\ttotal: 1.36s\tremaining: 119ms\n",
            "92:\tlearn: 0.3513482\ttotal: 1.38s\tremaining: 104ms\n",
            "93:\tlearn: 0.3506412\ttotal: 1.39s\tremaining: 88.9ms\n",
            "94:\tlearn: 0.3493325\ttotal: 1.41s\tremaining: 74ms\n",
            "95:\tlearn: 0.3478317\ttotal: 1.42s\tremaining: 59.1ms\n",
            "96:\tlearn: 0.3467112\ttotal: 1.43s\tremaining: 44.3ms\n",
            "97:\tlearn: 0.3447030\ttotal: 1.45s\tremaining: 29.5ms\n",
            "98:\tlearn: 0.3437035\ttotal: 1.46s\tremaining: 14.8ms\n",
            "99:\tlearn: 0.3425956\ttotal: 1.48s\tremaining: 0us\n"
          ]
        },
        {
          "output_type": "execute_result",
          "data": {
            "text/plain": [
              "<catboost.core.CatBoostClassifier at 0x7f5190f011d0>"
            ]
          },
          "metadata": {},
          "execution_count": 47
        }
      ]
    },
    {
      "cell_type": "code",
      "source": [
        "accuracy_score(y_test, model.predict(X_test_scal))"
      ],
      "metadata": {
        "colab": {
          "base_uri": "https://localhost:8080/"
        },
        "id": "zJT0ponI0KV0",
        "outputId": "ed450747-d467-456e-8d3c-b0d6317b7e13"
      },
      "execution_count": 48,
      "outputs": [
        {
          "output_type": "execute_result",
          "data": {
            "text/plain": [
              "0.9066666666666666"
            ]
          },
          "metadata": {},
          "execution_count": 48
        }
      ]
    },
    {
      "cell_type": "code",
      "source": [
        "accuracy_score(y_train, model.predict(X_train_scal))"
      ],
      "metadata": {
        "id": "7iCtlO4d0XHN",
        "colab": {
          "base_uri": "https://localhost:8080/"
        },
        "outputId": "4ff341c4-a65f-48cd-c83a-3040684d7d52"
      },
      "execution_count": 49,
      "outputs": [
        {
          "output_type": "execute_result",
          "data": {
            "text/plain": [
              "0.9099099099099099"
            ]
          },
          "metadata": {},
          "execution_count": 49
        }
      ]
    },
    {
      "cell_type": "code",
      "source": [],
      "metadata": {
        "id": "dhpKNKM4u09z"
      },
      "execution_count": 16,
      "outputs": []
    }
  ]
}